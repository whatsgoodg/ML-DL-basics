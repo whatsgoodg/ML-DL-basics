{
  "nbformat": 4,
  "nbformat_minor": 0,
  "metadata": {
    "colab": {
      "provenance": [],
      "authorship_tag": "ABX9TyOtKkA3yoOfLVMVCn82AbAg",
      "include_colab_link": true
    },
    "kernelspec": {
      "name": "python3",
      "display_name": "Python 3"
    },
    "language_info": {
      "name": "python"
    }
  },
  "cells": [
    {
      "cell_type": "markdown",
      "metadata": {
        "id": "view-in-github",
        "colab_type": "text"
      },
      "source": [
        "<a href=\"https://colab.research.google.com/github/whatsgoodg/ML-DL-basics/blob/main/2_1_k_nearest_neighbors_regression.ipynb\" target=\"_parent\"><img src=\"https://colab.research.google.com/assets/colab-badge.svg\" alt=\"Open In Colab\"/></a>"
      ]
    },
    {
      "cell_type": "markdown",
      "source": [
        "k-최근접 이웃 회귀 모델을 위한 data set         \n",
        "feature          \n",
        "* length          \n",
        "             \n",
        "target  \n",
        "* weight           \n",
        "legnth로 weight를 예측함"
      ],
      "metadata": {
        "id": "UrFcu3ir62jo"
      }
    },
    {
      "cell_type": "code",
      "execution_count": null,
      "metadata": {
        "id": "2-mUqI7f6KzT"
      },
      "outputs": [],
      "source": [
        "import numpy as np \n",
        "perch_length = np.array([8.4, 13.7, 15.0, 16.2, 17.4, 18.0, 18.7, 19.0, 19.6, 20.0, 21.0,\n",
        "       21.0, 21.0, 21.3, 22.0, 22.0, 22.0, 22.0, 22.0, 22.5, 22.5, 22.7,\n",
        "       23.0, 23.5, 24.0, 24.0, 24.6, 25.0, 25.6, 26.5, 27.3, 27.5, 27.5,\n",
        "       27.5, 28.0, 28.7, 30.0, 32.8, 34.5, 35.0, 36.5, 36.0, 37.0, 37.0,\n",
        "       39.0, 39.0, 39.0, 40.0, 40.0, 40.0, 40.0, 42.0, 43.0, 43.0, 43.5,\n",
        "       44.0])\n",
        "perch_weight = np.array([5.9, 32.0, 40.0, 51.5, 70.0, 100.0, 78.0, 80.0, 85.0, 85.0, 110.0,\n",
        "       115.0, 125.0, 130.0, 120.0, 120.0, 130.0, 135.0, 110.0, 130.0,\n",
        "       150.0, 145.0, 150.0, 170.0, 225.0, 145.0, 188.0, 180.0, 197.0,\n",
        "       218.0, 300.0, 260.0, 265.0, 250.0, 250.0, 300.0, 320.0, 514.0,\n",
        "       556.0, 840.0, 685.0, 700.0, 700.0, 690.0, 900.0, 650.0, 820.0,\n",
        "       850.0, 900.0, 1015.0, 820.0, 1100.0, 1000.0, 1100.0, 1000.0,\n",
        "       1000.0])"
      ]
    },
    {
      "cell_type": "markdown",
      "source": [
        "산점도 확인"
      ],
      "metadata": {
        "id": "t4SsID9Z_gjR"
      }
    },
    {
      "cell_type": "code",
      "source": [
        "import matplotlib.pyplot as plt\n",
        "plt.scatter(perch_length, perch_weight)\n",
        "plt.xlabel(\"length\")\n",
        "plt.ylabel(\"weight\")\n",
        "plt.show()"
      ],
      "metadata": {
        "colab": {
          "base_uri": "https://localhost:8080/",
          "height": 279
        },
        "id": "Sp-nC-Hl_etH",
        "outputId": "40d8435a-a451-48a8-ca04-609ea1dab2d1"
      },
      "execution_count": null,
      "outputs": [
        {
          "output_type": "display_data",
          "data": {
            "text/plain": [
              "<Figure size 432x288 with 1 Axes>"
            ],
            "image/png": "[encoded data removed]"
          },
          "metadata": {
            "needs_background": "light"
          }
        }
      ]
    },
    {
      "cell_type": "markdown",
      "source": [
        "train set, test set splitting"
      ],
      "metadata": {
        "id": "Bv0nbcY5_6u7"
      }
    },
    {
      "cell_type": "code",
      "source": [
        "from sklearn.model_selection import train_test_split\n",
        "train_input, test_input, train_target, test_target = train_test_split(perch_length, perch_weight, random_state=42)"
      ],
      "metadata": {
        "id": "lfRR0LIuAAWI"
      },
      "execution_count": null,
      "outputs": []
    },
    {
      "cell_type": "markdown",
      "source": [
        "scikit-learn 학습을 위한 넘파이 2차원 배열로 변경            \n",
        "input은 2차원, target은 2차원"
      ],
      "metadata": {
        "id": "1fNaSjtNAQeM"
      }
    },
    {
      "cell_type": "code",
      "source": [
        "train_input = train_input.reshape(-1, 1)\n",
        "test_input = test_input.reshape(-1, 1)"
      ],
      "metadata": {
        "id": "4Ca7j32GAjSB"
      },
      "execution_count": null,
      "outputs": []
    },
    {
      "cell_type": "markdown",
      "source": [
        "결정계수를 정확도로 사용하는 k-최근접 이웃 회귀 모델 객체 생성 후        \n",
        "훈련"
      ],
      "metadata": {
        "id": "5aD9Ye6bAkHU"
      }
    },
    {
      "cell_type": "code",
      "source": [
        "from sklearn.neighbors import KNeighborsRegressor\n",
        "knr = KNeighborsRegressor()\n",
        "knr.fit(train_input, train_target)"
      ],
      "metadata": {
        "colab": {
          "base_uri": "https://localhost:8080/"
        },
        "id": "6xVkorygAvYI",
        "outputId": "4b3af33c-c8bc-446c-de01-be774bae77cc"
      },
      "execution_count": null,
      "outputs": [
        {
          "output_type": "execute_result",
          "data": {
            "text/plain": [
              "KNeighborsRegressor()"
            ]
          },
          "metadata": {},
          "execution_count": 6
        }
      ]
    },
    {
      "cell_type": "markdown",
      "source": [
        "결정 계수는 **1- (타깃 - 예측값)^2의 합 / (타깃 - 총 타깃의 평균 - 예측값)^2의 합**             \n",
        "* 예측값이 타깃과 가까우면 1에 가까움         \n",
        "* 예측값이 총 타깃의 평균과 가가우면 0에 가까움           "
      ],
      "metadata": {
        "id": "3w9sjCZoA-G1"
      }
    },
    {
      "cell_type": "code",
      "source": [
        "knr.score(test_input, test_target)"
      ],
      "metadata": {
        "colab": {
          "base_uri": "https://localhost:8080/"
        },
        "id": "u11vJF9aBa4u",
        "outputId": "f09832be-f859-4404-b47a-2f4e20b0fc9b"
      },
      "execution_count": null,
      "outputs": [
        {
          "output_type": "execute_result",
          "data": {
            "text/plain": [
              "0.992809406101064"
            ]
          },
          "metadata": {},
          "execution_count": 7
        }
      ]
    },
    {
      "cell_type": "markdown",
      "source": [
        "높아서 좋아보이나 직관적인 이해가 어려움         \n",
        "그렇기 때문에 **(타깃 - 예측값)의 절댓값의 평균**을 이용하여 직관적인 이해         "
      ],
      "metadata": {
        "id": "jasigfaVBddo"
      }
    },
    {
      "cell_type": "code",
      "source": [
        "from sklearn.metrics import mean_absolute_error"
      ],
      "metadata": {
        "id": "snYW91WSBoJN"
      },
      "execution_count": null,
      "outputs": []
    },
    {
      "cell_type": "code",
      "source": [
        "test_prediction = knr.predict(test_input)\n",
        "mae = mean_absolute_error(test_target, test_prediction)\n",
        "mae"
      ],
      "metadata": {
        "colab": {
          "base_uri": "https://localhost:8080/"
        },
        "id": "XP7XVIQXBs6Y",
        "outputId": "0ee7b645-369f-4b41-b937-483d9bec3b38"
      },
      "execution_count": null,
      "outputs": [
        {
          "output_type": "execute_result",
          "data": {
            "text/plain": [
              "19.157142857142862"
            ]
          },
          "metadata": {},
          "execution_count": 10
        }
      ]
    },
    {
      "cell_type": "markdown",
      "source": [
        "예측값과 실제값의 차이의 평균은 약 19g        "
      ],
      "metadata": {
        "id": "pRLZf1RIB91D"
      }
    },
    {
      "cell_type": "markdown",
      "source": [
        "훈련 셋을 통한 정확도"
      ],
      "metadata": {
        "id": "6FDeVMnsCe53"
      }
    },
    {
      "cell_type": "code",
      "source": [
        "knr.score(train_input, train_target)"
      ],
      "metadata": {
        "colab": {
          "base_uri": "https://localhost:8080/"
        },
        "id": "RFudfnOXCDKJ",
        "outputId": "fa5b97f6-4bc5-4dcf-e2e5-df19024f72e4"
      },
      "execution_count": null,
      "outputs": [
        {
          "output_type": "execute_result",
          "data": {
            "text/plain": [
              "0.9698823289099254"
            ]
          },
          "metadata": {},
          "execution_count": 11
        }
      ]
    },
    {
      "cell_type": "markdown",
      "source": [
        "테스트 셋을 통한 정확도"
      ],
      "metadata": {
        "id": "66xn0vBdCdLr"
      }
    },
    {
      "cell_type": "code",
      "source": [
        "knr.score(test_input, test_target)"
      ],
      "metadata": {
        "colab": {
          "base_uri": "https://localhost:8080/"
        },
        "id": "__vvc8vwCmGd",
        "outputId": "f2cc8597-7083-4235-ef4b-961a0803a57d"
      },
      "execution_count": null,
      "outputs": [
        {
          "output_type": "execute_result",
          "data": {
            "text/plain": [
              "0.992809406101064"
            ]
          },
          "metadata": {},
          "execution_count": 12
        }
      ]
    },
    {
      "cell_type": "markdown",
      "source": [
        "테스트 셋 > 훈련 셋        \n",
        "이는 **과소적합**이다. 훈련 셋과 테스트 셋의 크기가 작아서 그런 것 같다. "
      ],
      "metadata": {
        "id": "0wkXIu5mCZvx"
      }
    },
    {
      "cell_type": "markdown",
      "source": [
        "이를 해결하기 위해 최근접 이웃의 개수를 줄임.        \n",
        "이를 줄인다면 국지적인 패턴에 영향을 더 받는다.      \n",
        "만약 크다면 전체 데이터 셋의 영향을 많이 받는다.    \n",
        "       \n",
        "훈련 셋의 정확도\n",
        "\n"
      ],
      "metadata": {
        "id": "D3WOEJrlC-tb"
      }
    },
    {
      "cell_type": "code",
      "source": [
        "knr.neighbors = 3\n",
        "# 다시 훈련\n",
        "knr.fit(train_input, train_target)\n",
        "knr.score(train_input, train_target)"
      ],
      "metadata": {
        "colab": {
          "base_uri": "https://localhost:8080/"
        },
        "id": "5eHWBm6XC9ig",
        "outputId": "81859cfe-c03d-4818-ca56-5386fca11232"
      },
      "execution_count": null,
      "outputs": [
        {
          "output_type": "execute_result",
          "data": {
            "text/plain": [
              "0.9698823289099254"
            ]
          },
          "metadata": {},
          "execution_count": 13
        }
      ]
    },
    {
      "cell_type": "markdown",
      "source": [
        "테스트 셋의 정확도 확인"
      ],
      "metadata": {
        "id": "-P_j2KkqDibb"
      }
    },
    {
      "cell_type": "code",
      "source": [
        "knr.score(test_input, test_target)"
      ],
      "metadata": {
        "colab": {
          "base_uri": "https://localhost:8080/"
        },
        "id": "Z1D9XE4JDh5n",
        "outputId": "07190be1-455a-4b25-fa12-fae08c2ccb2b"
      },
      "execution_count": null,
      "outputs": [
        {
          "output_type": "execute_result",
          "data": {
            "text/plain": [
              "0.992809406101064"
            ]
          },
          "metadata": {},
          "execution_count": 14
        }
      ]
    },
    {
      "cell_type": "markdown",
      "source": [
        "문제 해결, 이제 훈련 셋의 산점도로 확인해보자"
      ],
      "metadata": {
        "id": "ww4HWKq4DruQ"
      }
    },
    {
      "cell_type": "code",
      "source": [
        "train_input[2, 0]"
      ],
      "metadata": {
        "colab": {
          "base_uri": "https://localhost:8080/"
        },
        "id": "qQG9mTcQG6Hk",
        "outputId": "df9f6156-c8e5-4742-b678-62774ecdb154"
      },
      "execution_count": null,
      "outputs": [
        {
          "output_type": "execute_result",
          "data": {
            "text/plain": [
              "18.7"
            ]
          },
          "metadata": {},
          "execution_count": 22
        }
      ]
    },
    {
      "cell_type": "code",
      "source": [
        "from time import sleep\n",
        "cnt=0\n",
        "for i,j in zip(train_input, train_target):\n",
        "  distances, indexes = knr.kneighbors([i])\n",
        "  plt.scatter(train_input, train_target)\n",
        "  plt.scatter(train_input[indexes], train_target[indexes], marker='D')\n",
        "  plt.scatter(i, j, marker='^')\n",
        "  plt.xlabel(\"length\")\n",
        "  plt.ylabel(\"weight\")\n",
        "  plt.show()\n",
        "  print('prediction is {0:0.6f} and target is {1:0.6f}'.format(knr.predict([i])[0], j))\n",
        "  if cnt == 5: break\n",
        "  cnt = cnt + 1"
      ],
      "metadata": {
        "colab": {
          "base_uri": "https://localhost:8080/",
          "height": 1000
        },
        "id": "5MPhW1l3DwOr",
        "outputId": "337597f9-c557-4e49-d686-009812f9559b"
      },
      "execution_count": null,
      "outputs": [
        {
          "output_type": "display_data",
          "data": {
            "text/plain": [
              "<Figure size 432x288 with 1 Axes>"
            ],
            "image/png": "[encoded data removed]"
          },
          "metadata": {
            "needs_background": "light"
          }
        },
        {
          "output_type": "stream",
          "name": "stdout",
          "text": [
            "prediction is 88.600000 and target is 85.000000\n"
          ]
        },
        {
          "output_type": "display_data",
          "data": {
            "text/plain": [
              "<Figure size 432x288 with 1 Axes>"
            ],
            "image/png": "[encoded data removed]"
          },
          "metadata": {
            "needs_background": "light"
          }
        },
        {
          "output_type": "stream",
          "name": "stdout",
          "text": [
            "prediction is 123.000000 and target is 135.000000\n"
          ]
        },
        {
          "output_type": "display_data",
          "data": {
            "text/plain": [
              "<Figure size 432x288 with 1 Axes>"
            ],
            "image/png": "[encoded data removed]"
          },
          "metadata": {
            "needs_background": "light"
          }
        },
        {
          "output_type": "stream",
          "name": "stdout",
          "text": [
            "prediction is 79.600000 and target is 78.000000\n"
          ]
        },
        {
          "output_type": "display_data",
          "data": {
            "text/plain": [
              "<Figure size 432x288 with 1 Axes>"
            ],
            "image/png": "[encoded data removed]"
          },
          "metadata": {
            "needs_background": "light"
          }
        },
        {
          "output_type": "stream",
          "name": "stdout",
          "text": [
            "prediction is 70.600000 and target is 70.000000\n"
          ]
        },
        {
          "output_type": "display_data",
          "data": {
            "text/plain": [
              "<Figure size 432x288 with 1 Axes>"
            ],
            "image/png": "[encoded data removed]"
          },
          "metadata": {
            "needs_background": "light"
          }
        },
        {
          "output_type": "stream",
          "name": "stdout",
          "text": [
            "prediction is 723.000000 and target is 700.000000\n"
          ]
        },
        {
          "output_type": "display_data",
          "data": {
            "text/plain": [
              "<Figure size 432x288 with 1 Axes>"
            ],
            "image/png": "[encoded data removed]"
          },
          "metadata": {
            "needs_background": "light"
          }
        },
        {
          "output_type": "stream",
          "name": "stdout",
          "text": [
            "prediction is 193.000000 and target is 180.000000\n"
          ]
        }
      ]
    }
  ]
}
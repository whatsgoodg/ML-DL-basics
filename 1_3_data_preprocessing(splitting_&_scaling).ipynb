{
  "nbformat": 4,
  "nbformat_minor": 0,
  "metadata": {
    "colab": {
      "provenance": [],
      "authorship_tag": "ABX9TyPTOk9O23l5KCvuCDHLaTM9",
      "include_colab_link": true
    },
    "kernelspec": {
      "name": "python3",
      "display_name": "Python 3"
    },
    "language_info": {
      "name": "python"
    }
  },
  "cells": [
    {
      "cell_type": "markdown",
      "metadata": {
        "id": "view-in-github",
        "colab_type": "text"
      },
      "source": [
        "<a href=\"https://colab.research.google.com/github/whatsgoodg/ML-DL-basics/blob/main/1_3_data_preprocessing(splitting_%26_scaling).ipynb\" target=\"_parent\"><img src=\"https://colab.research.google.com/assets/colab-badge.svg\" alt=\"Open In Colab\"/></a>"
      ]
    },
    {
      "cell_type": "markdown",
      "source": [
        "데이터 전처리를 위한 도미와 빙어 데이터     \n",
        "* 도미 35\n",
        "* 빙어 14      \n",
        "      \n",
        "feature      \n",
        "* 길이\n",
        "* 무게"
      ],
      "metadata": {
        "id": "ogzgvUT-sAtq"
      }
    },
    {
      "cell_type": "code",
      "execution_count": null,
      "metadata": {
        "id": "XldRu8UGmGj5"
      },
      "outputs": [],
      "source": [
        "fish_length = [25.4, 26.3, 26.5, 29.0, 29.0, 29.7, 29.7, 30.0, 30.0, 30.7, 31.0, 31.0, \n",
        "                31.5, 32.0, 32.0, 32.0, 33.0, 33.0, 33.5, 33.5, 34.0, 34.0, 34.5, 35.0, \n",
        "                35.0, 35.0, 35.0, 36.0, 36.0, 37.0, 38.5, 38.5, 39.5, 41.0, 41.0, 9.8, \n",
        "                10.5, 10.6, 11.0, 11.2, 11.3, 11.8, 11.8, 12.0, 12.2, 12.4, 13.0, 14.3, 15.0]\n",
        "fish_weight = [242.0, 290.0, 340.0, 363.0, 430.0, 450.0, 500.0, 390.0, 450.0, 500.0, 475.0, 500.0, \n",
        "                500.0, 340.0, 600.0, 600.0, 700.0, 700.0, 610.0, 650.0, 575.0, 685.0, 620.0, 680.0, \n",
        "                700.0, 725.0, 720.0, 714.0, 850.0, 1000.0, 920.0, 955.0, 925.0, 975.0, 950.0, 6.7, \n",
        "                7.5, 7.0, 9.7, 9.8, 8.7, 10.0, 9.9, 9.8, 12.2, 13.4, 12.2, 19.7, 19.9]"
      ]
    },
    {
      "cell_type": "markdown",
      "source": [
        "(49, 2)의 형태로 데이터 셋을 만들어 줌       \n",
        "**2차원 리스트**"
      ],
      "metadata": {
        "id": "aQJPyOmtsPci"
      }
    },
    {
      "cell_type": "code",
      "source": [
        "import numpy as np\n",
        "fish_data = np.column_stack((fish_length, fish_weight))"
      ],
      "metadata": {
        "id": "lpNauvOKsAJb"
      },
      "execution_count": null,
      "outputs": []
    },
    {
      "cell_type": "markdown",
      "source": [
        "분류를 위한 target      \n",
        "**`np.concatenate()`** 함수는 일차원 배열 두 개를 하나로 이어줌"
      ],
      "metadata": {
        "id": "KwP1LU02s7ax"
      }
    },
    {
      "cell_type": "code",
      "source": [
        "fish_target = np.concatenate((np.ones(35), np.zeros(14)))"
      ],
      "metadata": {
        "id": "tq1zHCZFs5Yk"
      },
      "execution_count": null,
      "outputs": []
    },
    {
      "cell_type": "markdown",
      "source": [
        "scikit-learn을 이용해 훈련 셋과 데이터 셋 나누기        \n",
        "deafault: 25% test, 75% train\n",
        "random_state: random seed for random selection"
      ],
      "metadata": {
        "id": "EEbCGpK5tDvm"
      }
    },
    {
      "cell_type": "code",
      "source": [
        "from sklearn.model_selection import train_test_split\n",
        "train_input, test_input, train_target, test_target = train_test_split(\n",
        "    fish_data, fish_target, random_state=42)"
      ],
      "metadata": {
        "id": "6Gy-CZi7tcnk"
      },
      "execution_count": null,
      "outputs": []
    },
    {
      "cell_type": "markdown",
      "source": [
        "임의 추출을 했지만 **sampling bias**가 일어났으므로             \n",
        "train_test_split의 매개변수 **stratify** 수정             \n",
        "<u>전체 데이터의 target을 인자로 주면 전체 데이터의 샘플 비율로 나누어줌</u>          "
      ],
      "metadata": {
        "id": "yewAJ--WtS9v"
      }
    },
    {
      "cell_type": "code",
      "source": [
        "train_input, test_input, train_target, test_target = train_test_split(\n",
        "    fish_data, fish_target, stratify=fish_target, random_state=42)"
      ],
      "metadata": {
        "id": "98NlbHeWu0yX"
      },
      "execution_count": null,
      "outputs": []
    },
    {
      "cell_type": "markdown",
      "source": [
        "기존의 모델 다시 학습 후 하나의 샘플 에측"
      ],
      "metadata": {
        "id": "U9w4YlcptTDZ"
      }
    },
    {
      "cell_type": "code",
      "source": [
        "from sklearn.neighbors import KNeighborsClassifier\n",
        "kn = KNeighborsClassifier()\n",
        "kn.fit(train_input, train_target)\n",
        "kn.score(test_input, test_target)"
      ],
      "metadata": {
        "colab": {
          "base_uri": "https://localhost:8080/"
        },
        "id": "svdDHWSxvd0z",
        "outputId": "67be9817-afcd-4a1b-c0ff-c0b41824569f"
      },
      "execution_count": null,
      "outputs": [
        {
          "output_type": "execute_result",
          "data": {
            "text/plain": [
              "1.0"
            ]
          },
          "metadata": {},
          "execution_count": 13
        }
      ]
    },
    {
      "cell_type": "markdown",
      "source": [
        "(25, 150)의 특성을 가진 도미를예측      "
      ],
      "metadata": {
        "id": "_0KFzegZwhDQ"
      }
    },
    {
      "cell_type": "code",
      "source": [
        "kn.predict([[25, 150]])"
      ],
      "metadata": {
        "colab": {
          "base_uri": "https://localhost:8080/"
        },
        "id": "on2dBC19wpbx",
        "outputId": "1db9702f-63a7-4e84-e5b8-5be11c46b45d"
      },
      "execution_count": null,
      "outputs": [
        {
          "output_type": "execute_result",
          "data": {
            "text/plain": [
              "array([0.])"
            ]
          },
          "metadata": {},
          "execution_count": 14
        }
      ]
    },
    {
      "cell_type": "markdown",
      "source": [
        "잘못된 예측이므로              \n",
        "가장 가까운 거리의 샘플들과의 거리와 인덱스 반환\n",
        "**`kn.kneigbors([25, 150])`**"
      ],
      "metadata": {
        "id": "I6TGmSYKwujH"
      }
    },
    {
      "cell_type": "code",
      "source": [
        "distances, indexes = kn.kneighbors([[25, 150]])\n",
        "import matplotlib.pyplot as plt\n",
        "plt.scatter(train_input[:,0], train_input[:,1])\n",
        "plt.scatter(train_input[indexes,0], train_input[indexes,1], marker='D')\n",
        "plt.scatter(25, 150, marker='^')\n",
        "plt.xlabel(\"length\")\n",
        "plt.ylabel(\"weight\")\n",
        "plt.show()"
      ],
      "metadata": {
        "colab": {
          "base_uri": "https://localhost:8080/",
          "height": 279
        },
        "id": "1-105hfRx576",
        "outputId": "9c84be31-7705-4580-cb26-becaac74deaa"
      },
      "execution_count": null,
      "outputs": [
        {
          "output_type": "display_data",
          "data": {
            "text/plain": [
              "<Figure size 432x288 with 1 Axes>"
            ],
            "image/png": "[encoded data removed]"
          },
          "metadata": {
            "needs_background": "light"
          }
        }
      ]
    },
    {
      "cell_type": "markdown",
      "source": [
        "y축의 scale이 문제,            \n",
        "단위가 큰 탓에 가까운 length의 계산은 미미함.           \n",
        "length의 scale을 weight과 맞춰봄 "
      ],
      "metadata": {
        "id": "cdzF7fNHzS7k"
      }
    },
    {
      "cell_type": "code",
      "source": [
        "plt.scatter(train_input[:,0], train_input[:,1])\n",
        "plt.scatter(train_input[indexes,0], train_input[indexes,1], marker='D')\n",
        "plt.xlim((0, 1000))\n",
        "plt.scatter(25, 150, marker='^')\n",
        "plt.xlabel(\"length\")\n",
        "plt.ylabel(\"weight\")\n",
        "plt.show()"
      ],
      "metadata": {
        "colab": {
          "base_uri": "https://localhost:8080/",
          "height": 279
        },
        "id": "cvd9_zzYzpn2",
        "outputId": "d1df4548-1cbe-4b50-e305-88b2cbcca75c"
      },
      "execution_count": null,
      "outputs": [
        {
          "output_type": "display_data",
          "data": {
            "text/plain": [
              "<Figure size 432x288 with 1 Axes>"
            ],
            "image/png": "[encoded data removed]"
          },
          "metadata": {
            "needs_background": "light"
          }
        }
      ]
    },
    {
      "cell_type": "markdown",
      "source": [
        "length는 애초에 작은 값이라 이래도 이전과 상황이 같음.         \n",
        "y축의 scale을 바꿔줘야 함       \n",
        "널리 사용되는 **`표준점수`**를 이용해 바꿔줌       \n",
        "<u>각 특성값이 평균에서 표준편차의 몇 배만큼 떨어진지를 나타냄</u>           \n",
        "거리의 영향을 많이 받으므로 이러한 작업이 필요. "
      ],
      "metadata": {
        "id": "sWiMd5pwz5vW"
      }
    },
    {
      "cell_type": "code",
      "source": [
        "mean = np.mean(train_input, axis=0)\n",
        "std = np.std(train_input, axis=0)"
      ],
      "metadata": {
        "id": "9NQ1pg_E0EWE"
      },
      "execution_count": null,
      "outputs": []
    },
    {
      "cell_type": "markdown",
      "source": [
        "scaling된 train 셋"
      ],
      "metadata": {
        "id": "KBixBVGC0zOU"
      }
    },
    {
      "cell_type": "code",
      "source": [
        "train_scaled = (train_input - mean) / std"
      ],
      "metadata": {
        "id": "nZhw_jxz05DS"
      },
      "execution_count": null,
      "outputs": []
    },
    {
      "cell_type": "markdown",
      "source": [
        "샘플들도 이러한 과정을 거쳐야 함              \n",
        "기존의 산점도와 거의 비슷, 그러나 scale이 달라져 있음.        \n",
        "그렇다면 눈대중의 거리와 실제 거리가 비슷할 것임.             "
      ],
      "metadata": {
        "id": "TRJvHMLl0_pc"
      }
    },
    {
      "cell_type": "code",
      "source": [
        "new = ([25, 150] - mean) / std\n",
        "plt.scatter(train_scaled[:,0], train_scaled[:,1])\n",
        "plt.scatter(new[0], new[1], marker='^')\n",
        "plt.xlabel(\"length\")\n",
        "plt.ylabel(\"weight\")\n",
        "plt.show()"
      ],
      "metadata": {
        "colab": {
          "base_uri": "https://localhost:8080/",
          "height": 279
        },
        "id": "wmjrlAsg1G3W",
        "outputId": "d362ab3c-2008-45d3-c86c-743a2626e725"
      },
      "execution_count": null,
      "outputs": [
        {
          "output_type": "display_data",
          "data": {
            "text/plain": [
              "<Figure size 432x288 with 1 Axes>"
            ],
            "image/png": "[encoded data removed]"
          },
          "metadata": {
            "needs_background": "light"
          }
        }
      ]
    },
    {
      "cell_type": "markdown",
      "source": [
        "이 데이터로 학습"
      ],
      "metadata": {
        "id": "jcVik5dk1huz"
      }
    },
    {
      "cell_type": "code",
      "source": [
        "kn.fit(train_scaled, train_target)"
      ],
      "metadata": {
        "colab": {
          "base_uri": "https://localhost:8080/"
        },
        "id": "TeqJMD5z1jVH",
        "outputId": "efff8d2b-e5c6-4f8b-9234-4810ee1660e1"
      },
      "execution_count": null,
      "outputs": [
        {
          "output_type": "execute_result",
          "data": {
            "text/plain": [
              "KNeighborsClassifier()"
            ]
          },
          "metadata": {},
          "execution_count": 27
        }
      ]
    },
    {
      "cell_type": "markdown",
      "source": [
        "test 데이터 셋 scaling 후, 정확도와 이전 sample값 예측값 확인"
      ],
      "metadata": {
        "id": "UGGTrfJB1pKq"
      }
    },
    {
      "cell_type": "code",
      "source": [
        "test_scaled = (test_input - mean) / std\n",
        "print(kn.score(test_scaled, test_target))\n",
        "kn.predict([new])"
      ],
      "metadata": {
        "colab": {
          "base_uri": "https://localhost:8080/"
        },
        "id": "rjnjsB5T13I_",
        "outputId": "d3c6d76a-70b0-427b-c006-c15c28a9d501"
      },
      "execution_count": null,
      "outputs": [
        {
          "output_type": "stream",
          "name": "stdout",
          "text": [
            "1.0\n"
          ]
        },
        {
          "output_type": "execute_result",
          "data": {
            "text/plain": [
              "array([1.])"
            ]
          },
          "metadata": {},
          "execution_count": 29
        }
      ]
    },
    {
      "cell_type": "markdown",
      "source": [
        "산점도 확인인"
      ],
      "metadata": {
        "id": "BK0HfWNVyQ2j"
      }
    },
    {
      "cell_type": "code",
      "source": [
        "distances, indexes = kn.kneighbors([new])\n",
        "plt.scatter(train_scaled[:,0], train_scaled[:,1])\n",
        "plt.scatter(new[0], new[1], marker='^')\n",
        "plt.scatter(train_scaled[indexes, 0], train_scaled[indexes, 1], marker='D')\n",
        "plt.xlabel(\"length\")\n",
        "plt.ylabel(\"weight\")\n",
        "plt.show()"
      ],
      "metadata": {
        "colab": {
          "base_uri": "https://localhost:8080/",
          "height": 279
        },
        "id": "S22LFMkR2HJo",
        "outputId": "d0fddbb6-5aa0-4792-c872-2f7716d7d4e9"
      },
      "execution_count": null,
      "outputs": [
        {
          "output_type": "display_data",
          "data": {
            "text/plain": [
              "<Figure size 432x288 with 1 Axes>"
            ],
            "image/png": "[encoded data removed]"
          },
          "metadata": {
            "needs_background": "light"
          }
        }
      ]
    }
  ]
}
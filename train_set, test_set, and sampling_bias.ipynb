{
  "nbformat": 4,
  "nbformat_minor": 0,
  "metadata": {
    "colab": {
      "provenance": [],
      "authorship_tag": "ABX9TyM8ua5ZGz4fZugTPrfY9fvp",
      "include_colab_link": true
    },
    "kernelspec": {
      "name": "python3",
      "display_name": "Python 3"
    },
    "language_info": {
      "name": "python"
    }
  },
  "cells": [
    {
      "cell_type": "markdown",
      "metadata": {
        "id": "view-in-github",
        "colab_type": "text"
      },
      "source": [
        "<a href=\"https://colab.research.google.com/github/whatsgoodg/ML-DL-basics/blob/main/train_set%2C_test_set_and_sampling_bias.ipynb\" target=\"_parent\"><img src=\"https://colab.research.google.com/assets/colab-badge.svg\" alt=\"Open In Colab\"/></a>"
      ]
    },
    {
      "cell_type": "markdown",
      "source": [
        ">도미와 빙어 데이터 \n",
        "* [0:35]: 도미\n",
        "* [35:50]: 빙어\n",
        "샘플링 편향을 보이기 위해 이러한 데이터를 사용"
      ],
      "metadata": {
        "id": "JaHmuImdeKKX"
      }
    },
    {
      "cell_type": "code",
      "execution_count": null,
      "metadata": {
        "id": "qyEs9ifEY35x"
      },
      "outputs": [],
      "source": [
        "fish_length = [25.4, 26.3, 26.5, 29.0, 29.0, 29.7, 29.7, 30.0, 30.0, 30.7, 31.0, 31.0, \n",
        "                31.5, 32.0, 32.0, 32.0, 33.0, 33.0, 33.5, 33.5, 34.0, 34.0, 34.5, 35.0, \n",
        "                35.0, 35.0, 35.0, 36.0, 36.0, 37.0, 38.5, 38.5, 39.5, 41.0, 41.0, 9.8, \n",
        "                10.5, 10.6, 11.0, 11.2, 11.3, 11.8, 11.8, 12.0, 12.2, 12.4, 13.0, 14.3, 15.0]\n",
        "fish_weight = [242.0, 290.0, 340.0, 363.0, 430.0, 450.0, 500.0, 390.0, 450.0, 500.0, 475.0, 500.0, \n",
        "                500.0, 340.0, 600.0, 600.0, 700.0, 700.0, 610.0, 650.0, 575.0, 685.0, 620.0, 680.0, \n",
        "                700.0, 725.0, 720.0, 714.0, 850.0, 1000.0, 920.0, 955.0, 925.0, 975.0, 950.0, 6.7, \n",
        "                7.5, 7.0, 9.7, 9.8, 8.7, 10.0, 9.9, 9.8, 12.2, 13.4, 12.2, 19.7, 19.9]"
      ]
    },
    {
      "cell_type": "markdown",
      "source": [
        "> 학습을 위해 이차원 배열로 변경\n",
        "* fish_data: [길이, 무게]를 가지는 리스트\n",
        "* fish_target: 도미 1, 빙어 0"
      ],
      "metadata": {
        "id": "jOZahjnN6hKd"
      }
    },
    {
      "cell_type": "code",
      "source": [
        "fish_data = [[l, w] for l, w in zip(fish_length, fish_weight)]\n",
        "fish_target = [1] * 35 + [0] * 14"
      ],
      "metadata": {
        "id": "QN-SrKeTeREd"
      },
      "execution_count": null,
      "outputs": []
    },
    {
      "cell_type": "markdown",
      "source": [
        ">scikit-learn의 KNeighborsClassfier의 객체를 생성"
      ],
      "metadata": {
        "id": "3rh2ttzKo24B"
      }
    },
    {
      "cell_type": "code",
      "source": [
        "from sklearn.neighbors import KNeighborsClassifier\n",
        "kn = KNeighborsClassifier()"
      ],
      "metadata": {
        "id": "MEcEDewhpHVw"
      },
      "execution_count": null,
      "outputs": []
    },
    {
      "cell_type": "markdown",
      "source": [
        ">훈련 데이터와 테스트 데이터 추출\n",
        "* train: 35/49\n",
        "* test: 14/49"
      ],
      "metadata": {
        "id": "8I-piyEZpX2U"
      }
    },
    {
      "cell_type": "code",
      "source": [
        "train_input = fish_data[:35]\n",
        "train_target = fish_target[:35]\n",
        "test_input = fish_data[35:]\n",
        "test_target = fish_target[35:]"
      ],
      "metadata": {
        "id": "xUtWAtmgppBE"
      },
      "execution_count": null,
      "outputs": []
    },
    {
      "cell_type": "markdown",
      "source": [
        ">훈련 데이터를 통해 모델 학습 후 정확도 추출\n",
        "\n"
      ],
      "metadata": {
        "id": "OxLgt22ap1Wq"
      }
    },
    {
      "cell_type": "code",
      "source": [
        "kn.fit(train_input, train_target)\n",
        "kn.score(test_input, test_target)"
      ],
      "metadata": {
        "colab": {
          "base_uri": "https://localhost:8080/"
        },
        "id": "Jh-rBgnHp4-_",
        "outputId": "984a2028-f1c7-4b08-b0e8-5ee04c1b6cb3"
      },
      "execution_count": null,
      "outputs": [
        {
          "output_type": "execute_result",
          "data": {
            "text/plain": [
              "0.0"
            ]
          },
          "metadata": {},
          "execution_count": 21
        }
      ]
    },
    {
      "cell_type": "markdown",
      "source": [
        ">샘플링 편향, 리스트 앞의 35개는 도미 14개는 빙어였기 때문에 도미만 학습         \n",
        "             \n",
        ">샘플링 편향을 없애도록 넘파이로 배열을 무직위로 추출.    \n",
        "인덱싱을 무작위로 한다.(0부터 48의 index를 리스트 형태로 섞는다)"
      ],
      "metadata": {
        "id": "D7II1q_Vr_A6"
      }
    },
    {
      "cell_type": "code",
      "source": [
        "import numpy as np\n",
        "input_arr = np.array(fish_data)\n",
        "target_arr = np.array(fish_target)"
      ],
      "metadata": {
        "id": "W-WqpRZ9wpUT"
      },
      "execution_count": null,
      "outputs": []
    },
    {
      "cell_type": "code",
      "source": [
        "np.random.seed(42)\n",
        "index = np.arange(49) # 0~48 인덱스\n",
        "np.random.shuffle(index) # 리스트 원소 셔플\n",
        "index"
      ],
      "metadata": {
        "colab": {
          "base_uri": "https://localhost:8080/"
        },
        "id": "V-G3SKdBqIaK",
        "outputId": "cc9974bf-391a-4bc5-a64f-fc839806ed8b"
      },
      "execution_count": null,
      "outputs": [
        {
          "output_type": "execute_result",
          "data": {
            "text/plain": [
              "array([13, 45, 47, 44, 17, 27, 26, 25, 31, 19, 12,  4, 34,  8,  3,  6, 40,\n",
              "       41, 46, 15,  9, 16, 24, 33, 30,  0, 43, 32,  5, 29, 11, 36,  1, 21,\n",
              "        2, 37, 35, 23, 39, 10, 22, 18, 48, 20,  7, 42, 14, 28, 38])"
            ]
          },
          "metadata": {},
          "execution_count": 28
        }
      ]
    },
    {
      "cell_type": "markdown",
      "source": [
        ">훈련 데이터와 테스트 데이터 추출\n",
        "* train: 35/49\n",
        "* test: 14/49"
      ],
      "metadata": {
        "id": "fJmyJmvhwQ55"
      }
    },
    {
      "cell_type": "code",
      "source": [
        "train_input = input_arr[index[:35]]\n",
        "train_target = target_arr[index[:35]]"
      ],
      "metadata": {
        "id": "vsGhKtphwbiT"
      },
      "execution_count": null,
      "outputs": []
    },
    {
      "cell_type": "code",
      "source": [
        "test_input = input_arr[index[35:]]\n",
        "test_target = target_arr[index[35:]]"
      ],
      "metadata": {
        "id": "aYC9UbOSxh4L"
      },
      "execution_count": null,
      "outputs": []
    },
    {
      "cell_type": "markdown",
      "source": [
        ">맷플롯립으로 test와 train data 산점도 확인\n",
        "* 파란색: train set\n",
        "* 주황색: test set"
      ],
      "metadata": {
        "id": "rKRbDhUqxoWI"
      }
    },
    {
      "cell_type": "code",
      "source": [
        "import matplotlib.pyplot as plt\n",
        "plt.scatter(train_input[:, 0], train_input[:,1])\n",
        "plt.scatter(test_input[:, 0], test_input[:,1])\n",
        "plt.xlabel(\"length\")\n",
        "plt.ylabel(\"weight\")\n",
        "plt.show()"
      ],
      "metadata": {
        "colab": {
          "base_uri": "https://localhost:8080/",
          "height": 279
        },
        "id": "iAq7hyk4xz64",
        "outputId": "b3bc06a9-4e02-468c-be0e-01fbc116bbd4"
      },
      "execution_count": null,
      "outputs": [
        {
          "output_type": "display_data",
          "data": {
            "text/plain": [
              "<Figure size 432x288 with 1 Axes>"
            ],
            "image/png": "[encoded data removed]"
          },
          "metadata": {
            "needs_background": "light"
          }
        }
      ]
    },
    {
      "cell_type": "markdown",
      "source": [
        ">이제 머신러닝을 학습시키고 정확도를 확인"
      ],
      "metadata": {
        "id": "WjlCzfI9zrCf"
      }
    },
    {
      "cell_type": "code",
      "source": [
        "kn.fit(train_input, train_target)"
      ],
      "metadata": {
        "colab": {
          "base_uri": "https://localhost:8080/"
        },
        "id": "ZHQYAVqUzxBs",
        "outputId": "1b1debc4-3c22-4431-edd7-77960e6e4ba6"
      },
      "execution_count": null,
      "outputs": [
        {
          "output_type": "execute_result",
          "data": {
            "text/plain": [
              "KNeighborsClassifier()"
            ]
          },
          "metadata": {},
          "execution_count": 35
        }
      ]
    },
    {
      "cell_type": "code",
      "source": [
        "kn.score(test_input, test_target)"
      ],
      "metadata": {
        "colab": {
          "base_uri": "https://localhost:8080/"
        },
        "id": "ANMT-lpSz2Bf",
        "outputId": "6254c00c-4e58-4ee3-d7bf-788dea591e48"
      },
      "execution_count": null,
      "outputs": [
        {
          "output_type": "execute_result",
          "data": {
            "text/plain": [
              "1.0"
            ]
          },
          "metadata": {},
          "execution_count": 36
        }
      ]
    },
    {
      "cell_type": "code",
      "source": [
        "print(kn.predict(test_input))\n",
        "test_target"
      ],
      "metadata": {
        "id": "k-LnIs870GbL",
        "outputId": "57e8e466-cf0c-4b76-b7d8-d80382480e9e",
        "colab": {
          "base_uri": "https://localhost:8080/"
        }
      },
      "execution_count": null,
      "outputs": [
        {
          "output_type": "stream",
          "name": "stdout",
          "text": [
            "[0 0 1 0 1 1 1 0 1 1 0 1 1 0]\n"
          ]
        },
        {
          "output_type": "execute_result",
          "data": {
            "text/plain": [
              "array([0, 0, 1, 0, 1, 1, 1, 0, 1, 1, 0, 1, 1, 0])"
            ]
          },
          "metadata": {},
          "execution_count": 37
        }
      ]
    }
  ]
}
